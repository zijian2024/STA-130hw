{
 "cells": [
  {
   "cell_type": "code",
   "execution_count": 1,
   "id": "1c749dc1",
   "metadata": {},
   "outputs": [],
   "source": [
    "import random\n",
    "\n",
    "\n",
    "def monty_hall_simulation(trials):\n",
    "    win_switch = 0\n",
    "    win_stay = 0\n",
    "    \n",
    "    for i in range(trials):\n",
    "        doors = [0, 0, 1]  # 两个是山羊，一个是汽车\n",
    "        random.shuffle(doors)\n",
    "\n",
    "       \n",
    "        choice = random.choice([0, 1, 2])\n",
    "\n",
    "      \n",
    "        for j in [0, 1, 2]:\n",
    "            if j != choice and doors[j] == 0:\n",
    "                host_open = j\n",
    "                break\n",
    "        \n",
    "     \n",
    "        new_choice = [door for door in [0, 1, 2] if door != choice and door != host_open][0]\n",
    "\n",
    "      \n",
    "        if doors[new_choice] == 1:\n",
    "            win_switch += 1\n",
    "        if doors[choice] == 1:\n",
    "            win_stay += 1\n",
    "\n",
    "    return win_switch, win_stay\n",
    "\n",
    "\n",
    "trials = 10000\n",
    "win_switch, win_stay = monty_hall_simulation(trials)\n"
   ]
  },
  {
   "cell_type": "code",
   "execution_count": 2,
   "id": "9df55fa6",
   "metadata": {},
   "outputs": [],
   "source": [
    "import random\n",
    "\n",
    "def monty_hall_simulation(trials):\n",
    "    win_switch, win_stay = 0, 0\n",
    "    \n",
    "    for _ in range(trials):\n",
    "        doors = [0, 0, 1]  # Two goats (0) and one car (1)\n",
    "        random.shuffle(doors)\n",
    "\n",
    "        # Player makes an initial choice\n",
    "        choice = random.choice([0, 1, 2])\n",
    "\n",
    "        # Host opens a door with a goat\n",
    "        host_open = next(door for door in range(3) if door != choice and doors[door] == 0)\n",
    "\n",
    "        # New choice (the remaining closed door)\n",
    "        new_choice = 3 - choice - host_open\n",
    "\n",
    "        # Increment win counts based on player's choice\n",
    "        win_switch += doors[new_choice]\n",
    "        win_stay += doors[choice]\n",
    "\n",
    "    return win_switch, win_stay\n",
    "\n",
    "\n",
    "trials = 10000\n",
    "win_switch, win_stay = monty_hall_simulation(trials)\n"
   ]
  },
  {
   "cell_type": "code",
   "execution_count": 3,
   "id": "839d9811",
   "metadata": {},
   "outputs": [
    {
     "ename": "SyntaxError",
     "evalue": "invalid decimal literal (1943219620.py, line 1)",
     "output_type": "error",
     "traceback": [
      "\u001b[0;36m  Cell \u001b[0;32mIn[3], line 1\u001b[0;36m\u001b[0m\n\u001b[0;31m    https://chatgpt.com/share/66ecc836-1ff0-800b-b939-f91ccd2df323\u001b[0m\n\u001b[0m                               ^\u001b[0m\n\u001b[0;31mSyntaxError\u001b[0m\u001b[0;31m:\u001b[0m invalid decimal literal\n"
     ]
    }
   ],
   "source": [
    "https://chatgpt.com/share/66ecc836-1ff0-800b-b939-f91ccd2df323\n",
    "    "
   ]
  },
  {
   "cell_type": "code",
   "execution_count": 4,
   "id": "b311967f",
   "metadata": {},
   "outputs": [
    {
     "ename": "SyntaxError",
     "evalue": "unterminated string literal (detected at line 5) (3163827531.py, line 5)",
     "output_type": "error",
     "traceback": [
      "\u001b[0;36m  Cell \u001b[0;32mIn[4], line 5\u001b[0;36m\u001b[0m\n\u001b[0;31m    frustrated by the chatbot's response. Based on my experience so far using ChatGPT to help me learn, understand,\u001b[0m\n\u001b[0m                             ^\u001b[0m\n\u001b[0;31mSyntaxError\u001b[0m\u001b[0;31m:\u001b[0m unterminated string literal (detected at line 5)\n"
     ]
    }
   ],
   "source": [
    "In my interactions with chat robot to understand Monte Hall and markov bot code experience, I found that they are \n",
    "poainted out from different parts of the code of a specific line and its definition, usage, and how to use them in \n",
    "different context of the sample is very helpful - ChatGPT soon gave me to understand the content. Because of how \n",
    "easy and effective it is to get information from ChatGPT, I found myself extremely satisfied and not at all \n",
    "frustrated by the chatbot's response. Based on my experience so far using ChatGPT to help me learn, understand, \n",
    "and write code, I believe I am able to positively evaluate Chatbots as a beneficial tool for me to learn and \n",
    "understand code.\n",
    "\n",
    "\n",
    "\n",
    "\n",
    "\n",
    "\n",
    "\n",
    "\n",
    "\n"
   ]
  },
  {
   "cell_type": "code",
   "execution_count": 5,
   "id": "c7ebac01",
   "metadata": {},
   "outputs": [
    {
     "ename": "SyntaxError",
     "evalue": "invalid syntax (4001550326.py, line 1)",
     "output_type": "error",
     "traceback": [
      "\u001b[0;36m  Cell \u001b[0;32mIn[5], line 1\u001b[0;36m\u001b[0m\n\u001b[0;31m    My perspective on learning AI-driven tools in code, statistics, and data science has changed a lot since\u001b[0m\n\u001b[0m       ^\u001b[0m\n\u001b[0;31mSyntaxError\u001b[0m\u001b[0;31m:\u001b[0m invalid syntax\n"
     ]
    }
   ],
   "source": [
    "My perspective on learning AI-driven tools in code, statistics, and data science has changed a lot since \n",
    "joining the course, given my lack of experience in all three areas and not having used an AI-driven school\n",
    "before, as I never really had the opportunity to interact with it. I do believe that my initial perception \n",
    "was one of skepticism and doubt, and now I feel like I'm starting to develop a more positive view of how I'm \n",
    "getting more specific from how AI-driven tools can help me get some kind of utility. Personalized learning styles\n",
    "are more beneficial than traditional forms of learning, such as textbooks.\n"
   ]
  },
  {
   "cell_type": "code",
   "execution_count": 6,
   "id": "c44ca8a9",
   "metadata": {},
   "outputs": [
    {
     "ename": "SyntaxError",
     "evalue": "invalid decimal literal (2033913914.py, line 1)",
     "output_type": "error",
     "traceback": [
      "\u001b[0;36m  Cell \u001b[0;32mIn[6], line 1\u001b[0;36m\u001b[0m\n\u001b[0;31m    https://chatgpt.com/share/66ecd8da-7898-800b-9b6c-06ef15342477\u001b[0m\n\u001b[0m                               ^\u001b[0m\n\u001b[0;31mSyntaxError\u001b[0m\u001b[0;31m:\u001b[0m invalid decimal literal\n"
     ]
    }
   ],
   "source": [
    "https://chatgpt.com/share/66ecd8da-7898-800b-9b6c-06ef15342477"
   ]
  },
  {
   "cell_type": "code",
   "execution_count": 7,
   "id": "74b8f70c",
   "metadata": {},
   "outputs": [
    {
     "ename": "SyntaxError",
     "evalue": "unterminated string literal (detected at line 3) (2794338257.py, line 3)",
     "output_type": "error",
     "traceback": [
      "\u001b[0;36m  Cell \u001b[0;32mIn[7], line 3\u001b[0;36m\u001b[0m\n\u001b[0;31m    From a reflective point of view, I think ai can help me in some ways to help me understand things that I don't understand.\u001b[0m\n\u001b[0m                                                                                                                ^\u001b[0m\n\u001b[0;31mSyntaxError\u001b[0m\u001b[0;31m:\u001b[0m unterminated string literal (detected at line 3)\n"
     ]
    }
   ],
   "source": [
    "This chatbot session provides information about relevant skills for a data scientist or statistician, as well as the fact that without experience in coding and data analysis, it may be difficult to find success in such a career - one may be more suited to a role related to strategy, communication, or management. Because employment without these skills can be difficult, because the computer science job market is limited for a person who is not well-versed in the necessary technical skills. When I asked another question about the necessary skills for a financial analyst, related to the context of the information asked in the first question, I got answers that were more technical - about specific tools, and certain topics that I needed to dig deeper into.\n",
    "\n",
    "From a reflective point of view, I think ai can help me in some ways to help me understand things that I don't understand.\n",
    "\n",
    "My chatbot session was very helpful because it was informative and concise - I could ask a variety of follow-up questions if I wanted to, and I'm sure the chatbot would answer with more useful information. I don't feel that chatbots lack the depth of knowledge in the area I want to learn.\n",
    " "
   ]
  },
  {
   "cell_type": "code",
   "execution_count": null,
   "id": "fdc99e35",
   "metadata": {},
   "outputs": [],
   "source": [
    "yes, through the Chatgpt robot, to help me understand and complete"
   ]
  }
 ],
 "metadata": {
  "kernelspec": {
   "display_name": "Python 3 (ipykernel)",
   "language": "python",
   "name": "python3"
  },
  "language_info": {
   "codemirror_mode": {
    "name": "ipython",
    "version": 3
   },
   "file_extension": ".py",
   "mimetype": "text/x-python",
   "name": "python",
   "nbconvert_exporter": "python",
   "pygments_lexer": "ipython3",
   "version": "3.11.6"
  }
 },
 "nbformat": 4,
 "nbformat_minor": 5
}
